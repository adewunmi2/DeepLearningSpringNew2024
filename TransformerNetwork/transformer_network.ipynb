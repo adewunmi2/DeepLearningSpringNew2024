{
 "cells": [
  {
   "cell_type": "markdown",
   "metadata": {},
   "source": [
    "https://drive.google.com/drive/my-drive\n",
    "\n",
    "https://drive.google.com/drive/folders/1zCGpqJUyq2aE8OjiTXb1PgjufHM5CG2U\n",
    "\n",
    "https://docs.google.com/document/d/1nha4u_jnPieD1yqAkjIOZMHggYaqHR8u/edit?usp=sharing&ouid=111682981030275363022&rtpof=true&sd=true"
   ]
  },
  {
   "cell_type": "code",
   "execution_count": null,
   "metadata": {},
   "outputs": [],
   "source": []
  }
 ],
 "metadata": {
  "kernelspec": {
   "display_name": ".venv",
   "language": "python",
   "name": "python3"
  },
  "language_info": {
   "name": "python",
   "version": "3.10.11"
  }
 },
 "nbformat": 4,
 "nbformat_minor": 2
}
