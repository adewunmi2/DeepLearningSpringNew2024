{
 "cells": [
  {
   "cell_type": "code",
   "execution_count": 1,
   "metadata": {},
   "outputs": [],
   "source": [
    "# Important libraries are imported\n",
    "import pandas as pd\n",
    "import numpy as np\n",
    "from sklearn.model_selection import train_test_split\n",
    "from sklearn.preprocessing import LabelEncoder, OneHotEncoder\n",
    "from sklearn.feature_selection import SelectKBest, chi2\n",
    "import tensorflow as tf"
   ]
  },
  {
   "cell_type": "code",
   "execution_count": 2,
   "metadata": {},
   "outputs": [],
   "source": [
    "# Load the dataset\n",
    "df = pd.read_csv(\"car_purchasingNew.csv\", encoding='ISO-8859-1')"
   ]
  },
  {
   "cell_type": "code",
   "execution_count": 3,
   "metadata": {},
   "outputs": [],
   "source": [
    "# Rename columns\n",
    "df.rename(columns={'customer name': 'customer_name', \n",
    "                   'customer e-mail': 'customer_email',\n",
    "                   'annual Salary': 'annual_Salary',\n",
    "                   'credit card debt': 'credit_card_debt', \n",
    "                   'net worth': 'net_worth', \n",
    "                   'car purchase amount': 'car_purchase_amount'}, inplace=True)"
   ]
  },
  {
   "cell_type": "code",
   "execution_count": 4,
   "metadata": {},
   "outputs": [],
   "source": [
    "# Define function to classify price ranges\n",
    "def classify_price_range(car_purchase_amount):\n",
    "    if car_purchase_amount < 37000:\n",
    "        return 1\n",
    "    elif 37000 <= car_purchase_amount < 50000:\n",
    "        return 2\n",
    "    elif 50000 <= car_purchase_amount < 70000:\n",
    "        return 3\n",
    "    elif 70000 <= car_purchase_amount < 80000:\n",
    "        return 4\n",
    "\n",
    "# Apply the function to 'car_purchase_amount' column\n",
    "df['price_range'] = df['car_purchase_amount'].apply(classify_price_range)"
   ]
  },
  {
   "cell_type": "code",
   "execution_count": 5,
   "metadata": {},
   "outputs": [
    {
     "name": "stderr",
     "output_type": "stream",
     "text": [
      "C:\\Users\\Admin\\AppData\\Local\\Temp\\ipykernel_1544\\3966463358.py:6: FutureWarning: A value is trying to be set on a copy of a DataFrame or Series through chained assignment using an inplace method.\n",
      "The behavior will change in pandas 3.0. This inplace method will never work because the intermediate object on which we are setting values always behaves as a copy.\n",
      "\n",
      "For example, when doing 'df[col].method(value, inplace=True)', try using 'df.method({col: value}, inplace=True)' or df[col] = df[col].method(value) instead, to perform the operation inplace on the original object.\n",
      "\n",
      "\n",
      "  df['price_range'].replace(0, np.nan, inplace=True)\n"
     ]
    }
   ],
   "source": [
    "# Drop unneeded columns\n",
    "df.drop([\"customer_name\", \"JobTitle\", \"customer_email\", \"country\", \"Benefits\"], axis=1, inplace=True)\n",
    "\n",
    "# Replace non-numeric and 0 values with NaN\n",
    "df['price_range'] = pd.to_numeric(df['price_range'], errors='coerce')\n",
    "df['price_range'].replace(0, np.nan, inplace=True)\n",
    "\n",
    "# Fill NaN values with 1 and convert to integers\n",
    "df['price_range'] = df['price_range'].fillna(1).astype(int)"
   ]
  },
  {
   "cell_type": "code",
   "execution_count": 6,
   "metadata": {},
   "outputs": [],
   "source": [
    "# Replace encoded values with category labels\n",
    "df['price_range'] = df['price_range'].replace({1: \"1: Cheap\", 2: \"2: Avg-\", 3: \"3: Avg+\", 4: \"4: Expensive\"})"
   ]
  },
  {
   "cell_type": "code",
   "execution_count": 7,
   "metadata": {},
   "outputs": [
    {
     "name": "stdout",
     "output_type": "stream",
     "text": [
      "                            Score\n",
      "net_worth            6.211209e+06\n",
      "car_purchase_amount  1.020839e+06\n",
      "OvertimePay          5.933901e+04\n",
      "OtherPay             4.333394e+04\n",
      "BasePay              9.356526e+03\n",
      "TotalPay             7.529052e+03\n",
      "TotalPayBenefits     7.529052e+03\n",
      "credit_card_debt     2.603966e+03\n",
      "age                  2.242998e+02\n",
      "gender               1.043063e+00\n"
     ]
    }
   ],
   "source": [
    "# Encode the target variable\n",
    "le = LabelEncoder()\n",
    "y = le.fit_transform(df['price_range'])\n",
    "y = tf.keras.utils.to_categorical(y)\n",
    "\n",
    "# Select best features using chi-squared test\n",
    "X = df.drop(\"price_range\", axis=1)\n",
    "X_cat = X.astype(int).clip(lower=0)\n",
    "chi2_features = SelectKBest(chi2, k=len(X_cat.columns))\n",
    "best_features = chi2_features.fit(X_cat, y.astype(int))\n",
    "\n",
    "# Display feature scores\n",
    "df_features = pd.DataFrame(best_features.scores_, index=X.columns, columns=['Score'])\n",
    "df_features.sort_values(by='Score', ascending=False, inplace=True)\n",
    "print(df_features)"
   ]
  },
  {
   "cell_type": "code",
   "execution_count": 8,
   "metadata": {},
   "outputs": [],
   "source": [
    "# Split the dataset\n",
    "X_train, X_temp, y_train, y_temp = train_test_split(X, y, test_size=0.30)\n",
    "X_val, X_test, y_val, y_test = train_test_split(X_temp, y_temp, test_size=0.5)"
   ]
  },
  {
   "cell_type": "code",
   "execution_count": 9,
   "metadata": {},
   "outputs": [
    {
     "name": "stdout",
     "output_type": "stream",
     "text": [
      "['1: Cheap', '2: Avg-', '3: Avg+', '4: Expensive']\n"
     ]
    }
   ],
   "source": [
    "# Display categories\n",
    "categories = list(np.unique(df['price_range']))\n",
    "print(categories)"
   ]
  }
 ],
 "metadata": {
  "kernelspec": {
   "display_name": ".venv",
   "language": "python",
   "name": "python3"
  },
  "language_info": {
   "codemirror_mode": {
    "name": "ipython",
    "version": 3
   },
   "file_extension": ".py",
   "mimetype": "text/x-python",
   "name": "python",
   "nbconvert_exporter": "python",
   "pygments_lexer": "ipython3",
   "version": "3.10.11"
  }
 },
 "nbformat": 4,
 "nbformat_minor": 2
}
